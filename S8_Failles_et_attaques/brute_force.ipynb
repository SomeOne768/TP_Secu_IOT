{
 "cells": [
  {
   "cell_type": "code",
   "execution_count": 4,
   "metadata": {},
   "outputs": [],
   "source": [
    "# On importe nos librairies\n",
    "import base64\n",
    "import challenge2_python_cheat_sheet_todo as perso\n",
    "import partie2 as utilitaire\n",
    "import random"
   ]
  },
  {
   "cell_type": "code",
   "execution_count": 5,
   "metadata": {},
   "outputs": [],
   "source": [
    "# Test brut force sur XOR\n",
    "# On crée des messages chiffrés\n",
    "\n",
    "XOR = utilitaire.gen_payloads()\n",
    "tabkey = tabkey = str([random.randint(0, 9) for i in range(4)]).encode(encoding=\"utf-8\")"
   ]
  },
  {
   "cell_type": "code",
   "execution_count": 6,
   "metadata": {},
   "outputs": [],
   "source": [
    "# On chiffre nos payloads avec du XOR\n",
    "for i in range(len(XOR)):\n",
    "    XOR[i] = perso.EncodeBase64(XOR[i].encode(encoding=\"utf-8\"))\n",
    "    XOR[i] = perso.EncodeXor(XOR[i], tabkey)"
   ]
  },
  {
   "cell_type": "code",
   "execution_count": 7,
   "metadata": {},
   "outputs": [],
   "source": [
    "# On sait qu'il doivent contenir ON ou OFF\n",
    "# On Sait egalement que le chiffrement nous donne des caracteres d'un ensemble definie\n",
    "allowed_char = \"0123456789ABCDEFGHIJKLMNOPQRSTUVWXYZabcdefghijklmnopqrstuvwxyz\"\n",
    "dictionnaire_mot_recherche = [\"ON\", \"OFF\"]"
   ]
  },
  {
   "cell_type": "code",
   "execution_count": 8,
   "metadata": {},
   "outputs": [],
   "source": [
    "# Lors du décodage tous les char devront donc faire partie de cet ensemble\n",
    "def dechiffrement_valid(msg, ensemble):\n",
    "    \"\"\" Return true if each caractere of msg are in ensemble otherwise false\"\"\"\n",
    "    for c in msg:\n",
    "        if not perso.EstImprimable(c):\n",
    "            return False\n",
    "    return True"
   ]
  },
  {
   "cell_type": "code",
   "execution_count": 18,
   "metadata": {},
   "outputs": [],
   "source": [
    "# Le message doit contenir soit \"ON\" soit \"OFF\"\n",
    "def is_correct(msg, search_words):\n",
    "    \"\"\" return True if the msg contains at least 1 occurence of an element in seach_words\"\"\"\n",
    "    for word in search_words:\n",
    "        if perso.Contient(word, msg):\n",
    "            return True\n",
    "    return False\n",
    "\n",
    "### Pour cette partie on detient la fonction contient de la todo sheet"
   ]
  },
  {
   "cell_type": "code",
   "execution_count": 16,
   "metadata": {},
   "outputs": [],
   "source": [
    "# Il ne nous reste plus qu'à tester des combinaisons\n",
    "# def gen_combinaison(ensemble, taille=4, max=62-1):\n",
    "#     it = iter()\n",
    "#     indice = [0, 0, 0, 0]\n",
    "#     yield indice\n",
    "#     arret = [max for i in range(taille)]\n",
    "#     while indice != arret:\n",
    "#         for i in range(taille-1, -1, -1):\n",
    "#             if indice[i] < max:\n",
    "#                 indice[i] += 1\n",
    "#                 break\n",
    "#             else \n",
    "#                 # On est pas arrivé à la fin on peut forcement incrementer\n",
    "#                 indice[i] = 0\n",
    "\n",
    "# Biblio d'iter\n",
    "from itertools import combinations\n",
    "import time\n",
    "def brute_force_attack_XOR(msg, keySize=4):\n",
    "    allowed_char = \"0123456789ABCDEFGHIJKLMNOPQRSTUVWXYZabcdefghijklmnopqrstuvwxyz\"\n",
    "    iter_combi = combinations(allowed_char, keySize)\n",
    "    keyPossible = []\n",
    "    for it in iter_combi:\n",
    "        key = ''.join(it)\n",
    "        decode = perso.DecodeXor(msg, perso.toTab(key))\n",
    "        decode = perso.toStr(decode)\n",
    "        print(decode)\n",
    "        # if dechiffrement_valid(decode, allowed_char):\n",
    "            # print(decode)\n",
    "        if is_correct(decode, [\"ON\", \"OFF\"]):\n",
    "            print(\"Cle possible\")\n",
    "            keyPossible.append(key)\n",
    "    \n",
    "    return keyPossible"
   ]
  },
  {
   "cell_type": "code",
   "execution_count": 20,
   "metadata": {},
   "outputs": [],
   "source": [
    "# Teston ça\n",
    "keys = brute_force_attack_XOR(XOR[5], keySize=4)\n",
    "print(keys)"
   ]
  }
 ],
 "metadata": {
  "kernelspec": {
   "display_name": "Python 3.7.9 64-bit (microsoft store)",
   "language": "python",
   "name": "python3"
  },
  "language_info": {
   "codemirror_mode": {
    "name": "ipython",
    "version": 3
   },
   "file_extension": ".py",
   "mimetype": "text/x-python",
   "name": "python",
   "nbconvert_exporter": "python",
   "pygments_lexer": "ipython3",
   "version": "3.7.9"
  },
  "orig_nbformat": 4,
  "vscode": {
   "interpreter": {
    "hash": "252358376dd3026b09fee4f54dadd63fe3d5ee2114941fae2c95152c957e0b27"
   }
  }
 },
 "nbformat": 4,
 "nbformat_minor": 2
}
