{
 "cells": [
  {
   "cell_type": "code",
   "execution_count": 2,
   "id": "6ff17360",
   "metadata": {},
   "outputs": [],
   "source": [
    "# importation des différentes librairies\n",
    "from cryptography.hazmat.primitives import hashes\n",
    "from cryptography.hazmat.primitives.asymmetric.x25519 import X25519PrivateKey, X25519PublicKey\n",
    "from cryptography.hazmat.primitives.kdf.hkdf import HKDF\n",
    "from cryptography.hazmat.backends import default_backend\n",
    "from cryptography.hazmat.primitives.asymmetric import dh\n",
    "from cryptography.hazmat.primitives import serialization\n",
    "import paho.mqtt.client as mqtt\n",
    "import time\n"
   ]
  },
  {
   "cell_type": "code",
   "execution_count": null,
   "id": "ae84f79e",
   "metadata": {},
   "outputs": [],
   "source": [
    "# Generation des clés publique et privée\n",
    "## Ici on les transforme en byte pour eviter tout problème de transmission\n",
    "\n",
    "\n",
    "# Generate a private key for use in the exchange.\n",
    "IOT_private_key = X25519PrivateKey.generate()\n",
    "\n",
    "# Convert into bytes\n",
    "IOT_private_bytes = IOT_private_key.private_bytes(encoding=serialization.Encoding.Raw, format=serialization.PrivateFormat.Raw, encryption_algorithm=serialization.NoEncryption())\n",
    "\n",
    "# Generate the public keys\n",
    "IOT_public_key = IOT_private_key.public_key()\n",
    "\n",
    "# Convert into bytes\n",
    "IOT_public_bytes = IOT_public_key.public_bytes(encoding=serialization.Encoding.Raw, format=serialization.PublicFormat.Raw)\n"
   ]
  },
  {
   "cell_type": "code",
   "execution_count": null,
   "id": "c3df9d2f",
   "metadata": {},
   "outputs": [],
   "source": [
    "# Différents TOPIC sur lesquelles on va lire/écrire\n",
    "\n",
    "TOPIC_IOT_public_key = \"/ISIMA/S7_DH/GROUPE_4/PublicKeyIoT\"\n",
    "TOPIC_Serveur_public_key = \"/ISIMA/S7_DH/GROUPE_4/PublicKeyServer\"\n",
    "\n",
    "# Variables pour la connexion MQTT\n",
    "BROKER_IP = \"localhost\"\n",
    "PORT = 3000 # 1884\n",
    "USER = \"username\"\n",
    "PASSWORD = \"password\"\n",
    "Exchange_key_from_Serveur = b'' # clé qui sera récupérer"
   ]
  },
  {
   "cell_type": "code",
   "execution_count": null,
   "id": "851787b7",
   "metadata": {},
   "outputs": [],
   "source": [
    "# Dfinition des methodes pour le protocole MQTT\n",
    "\n",
    "def on_connect(client, userdata, flags, rc):\n",
    "    print(\"Connected with result code => \"+mqtt.connack_string(rc))\n",
    "\n",
    "def on_subscribe(client, userdata, mid, granted_qos):\n",
    "    print(\"Subscribed: \" + str(mid) + \" \" + str(granted_qos))\n",
    "\n",
    "def on_message(client, userdata, msg):\n",
    "    print(\"\\nReceived message '\" + str(msg.payload) + \"' on topic '\" + msg.topic + \"' with QoS \" + str(msg.qos))\n",
    "    # On affiche la clé publique:\n",
    "    if len(msg.payload) == 32:\n",
    "        # C'est bien la clé\n",
    "        print(\"Public key from Serveur: \" + str(msg.payload))\n",
    "        Exchange_key_from_Serveur = msg.payload\n",
    "\n",
    "        shared_IOT = IOT_private_key.exchange( X25519PublicKey.from_public_bytes(Exchange_key_from_Serveur) )\n",
    "        print(\"\\n\\nLa clé d'echange calculée est:\" + str(shared_IOT))\n",
    "    \n",
    "def on_publish(client, userdata, mid):\n",
    "    print(\"--on_publish callback --mid: \" + str(mid) )\n",
    "\n",
    "client = mqtt.Client(client_id=\"IOT04\")\n",
    "client.on_subscribe = on_subscribe\n",
    "client.on_message = on_message\n",
    "client.on_publish = on_publish\n",
    "client.on_connect = on_connect"
   ]
  },
  {
   "cell_type": "code",
   "execution_count": null,
   "id": "061c3d97",
   "metadata": {},
   "outputs": [],
   "source": [
    "# Programme principale\n",
    "# Message retenu => on ne publie qu'une seule fois et on s'abonne pour récupérer la clé q'une suele fois sans spam\n",
    "# Pour être spur qu'il est correcte on augmente donc la qualité de service\n",
    "try:\n",
    "    # client.username_pw_set(username=USER, password=PASSWORD)\n",
    "    client.connect(BROKER_IP, PORT) # groupes 1 Ã  4\n",
    "    #client.connect(\"m21.cloudmqtt.com\", 13197) # groupes 5 Ã  8\n",
    "    #client.connect(\"m21.cloudmqtt.com\", 16511) # groupes 9 Ã  12\n",
    "    #client.connect(\"m21.cloudmqtt.com\", 10318) # groupes 13 Ã  16\n",
    "    \n",
    "    try:\n",
    "        # On envoie notre clé sur le broker\n",
    "        (rc, mid) = client.publish(topic=TOPIC_IOT_public_key, payload=IOT_public_bytes, qos=1, retain=True)\n",
    "        print(\"Error return from publish of mid = \" + str(mid) +\" : \" + mqtt.error_string(rc))\n",
    "        \n",
    "        #On s'abonne pour récupérer la clé du serveur\n",
    "        client.subscribe(TOPIC_Serveur_public_key, qos=1)\n",
    "        \n",
    "        client.loop_start()\n",
    "\n",
    "        # On a pas besoin de spam le message car il est retenu\n",
    "        while True:\n",
    "            # (rc, mid) = client.publish(topic=TOPIC_IOT_public_key, payload=IOT_public_bytes, qos=0)\n",
    "            # print(\"Error return from publish of mid = \" + str(mid) +\" : \" + mqtt.error_string(rc))\n",
    "            time.sleep(5)\n",
    "\n",
    "    except KeyboardInterrupt:\n",
    "        client.loop_stop()\n",
    "        client.unsubscribe()\n",
    "        client.disconnect()\n",
    "        print(\"Done.\")\n",
    "except:\n",
    "    print(\"Connection Failed\")\n",
    "    \n"
   ]
  }
 ],
 "metadata": {
  "kernelspec": {
   "display_name": "Python 3 (ipykernel)",
   "language": "python",
   "name": "python3"
  },
  "language_info": {
   "codemirror_mode": {
    "name": "ipython",
    "version": 3
   },
   "file_extension": ".py",
   "mimetype": "text/x-python",
   "name": "python",
   "nbconvert_exporter": "python",
   "pygments_lexer": "ipython3",
   "version": "3.10.7"
  }
 },
 "nbformat": 4,
 "nbformat_minor": 5
}
